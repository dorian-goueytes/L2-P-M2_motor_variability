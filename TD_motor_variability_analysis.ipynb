{
  "nbformat": 4,
  "nbformat_minor": 0,
  "metadata": {
    "colab": {
      "provenance": [],
      "authorship_tag": "ABX9TyMxEcMpbGVaL69dXMZ8RBnx",
      "include_colab_link": true
    },
    "kernelspec": {
      "name": "python3",
      "display_name": "Python 3"
    },
    "language_info": {
      "name": "python"
    }
  },
  "cells": [
    {
      "cell_type": "markdown",
      "metadata": {
        "id": "view-in-github",
        "colab_type": "text"
      },
      "source": [
        "<a href=\"https://colab.research.google.com/github/dorian-goueytes/L2-P-M2_motor_variability/blob/main/TD_motor_variability_analysis.ipynb\" target=\"_parent\"><img src=\"https://colab.research.google.com/assets/colab-badge.svg\" alt=\"Open In Colab\"/></a>"
      ]
    },
    {
      "cell_type": "code",
      "execution_count": null,
      "metadata": {
        "id": "DS9uxmpcgG4m"
      },
      "outputs": [],
      "source": [
        "import numpy as np\n",
        "import matplotlib.pyplot as plt\n",
        "import pandas as pd\n",
        "import ast"
      ]
    },
    {
      "cell_type": "code",
      "source": [
        "data = pd.read_csv('data.csv')"
      ],
      "metadata": {
        "id": "8KS7UYqSgPP9"
      },
      "execution_count": null,
      "outputs": []
    },
    {
      "cell_type": "code",
      "source": [
        "mouse_x_error, mouse_y_error, abs_click_pos_error, rel_click_pos_error, RT_error, acc_error =  [], [], [],[],[],[]\n",
        "mouse_x_reward, mouse_y_reward, abs_click_pos_reward,rel_click_pos_reward, RT_reward, acc_reward =  [], [], [],[],[],[]\n",
        "all_correct, all_RT = [],[]\n",
        "target_pos = [[-0.8,-0.8/(1920/1080)],[-0.8,0.8/(1920/1080)],[0.8,0.8/(1920/1080)],[0.8,-0.8/(1920/1080)]]\n",
        "\n",
        "for trial in range(0, len(data['trial_type'])):\n",
        "  if trial >=20:\n",
        "    all_correct.append(data[\"correct\"][trial])\n",
        "    all_RT.append(data[\"RT\"][trial])\n",
        "    if data['trial_type'][trial] == \"reward_feedback\":\n",
        "      x = ast.literal_eval(data['mouse_3.x'][trial])\n",
        "      y = ast.literal_eval(data['mouse_3.y'][trial])\n",
        "      click = ast.literal_eval(data[\"click_pos\"][trial])\n",
        "      target = int(data['Target'][trial])\n",
        "      mouse_x_reward.append(np.array(x))\n",
        "      mouse_y_reward.append(np.array(y)*(1920/1080))\n",
        "      abs_click_pos_reward.append(click)\n",
        "      rel_click_pos_reward.append(np.array(click)-np.array(target_pos[target]))\n",
        "      acc_reward.append(data[\"correct\"][trial])\n",
        "      RT_reward.append(data[\"RT\"][trial])\n",
        "\n",
        "    if data['trial_type'][trial] == \"error_feedback\":\n",
        "      x = ast.literal_eval(data['mouse_3.x'][trial])\n",
        "      y = ast.literal_eval(data['mouse_3.y'][trial])\n",
        "      click = ast.literal_eval(data[\"click_pos\"][trial])\n",
        "      target = int(data['Target'][trial])\n",
        "      mouse_x_error.append(np.array(x))\n",
        "      mouse_y_error.append(np.array(y)*(1920/1080))\n",
        "      abs_click_pos_error.append(click)\n",
        "      rel_click_pos_error.append(np.array(click)-np.array(target_pos[target]))\n",
        "      acc_error.append(data[\"correct\"][trial])\n",
        "      RT_error.append(data[\"RT\"][trial])"
      ],
      "metadata": {
        "id": "GR9WtpDagiUt"
      },
      "execution_count": null,
      "outputs": []
    },
    {
      "cell_type": "markdown",
      "source": [
        "# Analyse des performances"
      ],
      "metadata": {
        "id": "_P7PChGJz5lh"
      }
    },
    {
      "cell_type": "markdown",
      "source": [
        "## Analyses des performances en fonction du types d'essai"
      ],
      "metadata": {
        "id": "cjxm_L05Bob7"
      }
    },
    {
      "cell_type": "code",
      "source": [
        "perf_globale = len(np.nonzero(all_correct)[0])/len(all_correct)*100\n",
        "perf_reward = len(np.nonzero(acc_reward)[0])/len(acc_reward)*100\n",
        "perf_error = len(np.nonzero(acc_error)[0])/len(acc_error)*100\n",
        "print('Performance globale : ', perf_globale, \"% correct\")\n",
        "print('Performance essais reward : ', perf_reward, \"% correct\")\n",
        "print('Performance essais erreur : ', perf_error, \"% correct\")\n",
        "print()\n",
        "\n",
        "plt.figure()\n",
        "plt.plot([1, 2], [perf_reward, perf_error], color = 'b')#, marker='o', linestyle='-')\n",
        "plt.scatter(1, perf_reward, label=\"Reward\", color='b')\n",
        "plt.scatter(2, perf_error, label=\"Error\", color='b')\n",
        "\n",
        "plt.ylim(0, 100)\n",
        "plt.xticks([1, 2], [\"Reward\", \"Error\"])  # Only two x-ticks\n",
        "plt.xlabel('Condition')\n",
        "plt.ylabel(\"Pourcentage de click dans la cible\")\n",
        "plt.title(\"Evolution des performances en fonction des essais\")\n",
        "plt.tight_layout()\n",
        "plt.show()"
      ],
      "metadata": {
        "id": "UOZUbz1Tz78N"
      },
      "execution_count": null,
      "outputs": []
    },
    {
      "cell_type": "markdown",
      "source": [
        "## Analyse des performances au cours du temps"
      ],
      "metadata": {
        "id": "moXGBFE2Btno"
      }
    },
    {
      "cell_type": "code",
      "source": [
        "def split_into_chunks(lst, chunk_size):\n",
        "    \"\"\"Splits a list into chunks of given size.\"\"\"\n",
        "    return [lst[i:i + chunk_size] for i in range(0, len(lst), chunk_size)]\n",
        "\n",
        "fig, ax = plt.subplots(1,1)\n",
        "time_reward = split_into_chunks(acc_reward, 10)\n",
        "time_error = split_into_chunks(acc_error, 10)\n",
        "\n",
        "temp_reward = []\n",
        "\n",
        "for i in time_reward:\n",
        "  if len(i) >=5:\n",
        "    temp_reward.append(len(np.nonzero(i)[0])/len(i)*100)\n",
        "ax.plot(np.linspace(0, 40,4),temp_reward, color = 'g', marker = '^', label = 'Reward trials')\n",
        "\n",
        "temp_error = []\n",
        "for i in time_error:\n",
        "  if len(i) >=5:\n",
        "    temp_error.append(len(np.nonzero(i)[0])/len(i)*100)\n",
        "ax.plot(np.linspace(0, 40,4), temp_error, color = 'b', marker = 's', label = 'Error trials')\n",
        "ax.legend()\n",
        "ax.set_xlabel('Essais effectués')\n",
        "ax.set_ylabel('\"Pourcentage de click dans la cible\"')\n",
        "plt.title(\"Evolution des performances en fonction du nombre d'essais\")\n",
        "plt.tight_layout()\n",
        "plt.show()"
      ],
      "metadata": {
        "id": "NF8jRZFVBwkn"
      },
      "execution_count": null,
      "outputs": []
    },
    {
      "cell_type": "markdown",
      "source": [
        "# Exploration des temps de réactions"
      ],
      "metadata": {
        "id": "iJPcewuD3Tzc"
      }
    },
    {
      "cell_type": "code",
      "source": [
        "fig, (ax1,ax2) = plt.subplots(1,2)\n",
        "ax1.hist(all_RT, bins = 8, label = 'All trials')\n",
        "ax1.set_ylabel(\"Temps de réaction\")\n",
        "ax1.set_xlabel(\"Proportion d'essais\")\n",
        "ax1.set_title(\"Tous les essais\")\n",
        "ax1.legend()\n",
        "ax2.hist(RT_reward, bins = 8, histtype = 'step',color = 'g', label = 'Reward trials')\n",
        "ax2.axvline(np.mean(RT_reward), color = 'g', linestyle = '--')\n",
        "ax2.hist(RT_error, bins = 8, histtype = 'step', label = 'Error trials')\n",
        "ax2.axvline(np.mean(RT_error), linestyle = '--')\n",
        "ax2.legend()\n",
        "ax2.set_title(\"Séparé selon les conditions\")\n",
        "ax2.set_ylabel(\"Temps de réaction\")\n",
        "ax2.set_xlabel(\"Proportion d'essais\")\n",
        "plt.suptitle(\"Distribution des temps de réactions\")\n",
        "\n",
        "plt.tight_layout()\n",
        "plt.show()"
      ],
      "metadata": {
        "id": "RGA1rOsS3Wjl"
      },
      "execution_count": null,
      "outputs": []
    },
    {
      "cell_type": "markdown",
      "source": [
        "# Comparaison des trajectoires"
      ],
      "metadata": {
        "id": "4ojBLHZH5ltn"
      }
    },
    {
      "cell_type": "code",
      "source": [
        "fig,((ax1,ax2), (ax3,ax4)) = plt.subplots(2,2,figsize = (8,8))\n",
        "circle1 = plt.Circle((-0.8, -0.8), 0.15, edgecolor='r', facecolor = \"None\")\n",
        "circle2 = plt.Circle((-0.8, 0.8),0.15, edgecolor='r', facecolor = \"None\")\n",
        "circle3 = plt.Circle((0.8, 0.8),0.15, edgecolor='r', facecolor = \"None\")\n",
        "circle4 = plt.Circle((0.8, -0.8),0.15, edgecolor='r', facecolor = \"None\")\n",
        "\n",
        "for i in range(0, len(mouse_x_reward)):\n",
        "  ax1.plot(mouse_x_reward[i], mouse_y_reward[i], color = 'g')\n",
        "ax1.add_patch(circle1)\n",
        "ax1.add_patch(circle2)\n",
        "ax1.add_patch(circle3)\n",
        "ax1.add_patch(circle4)\n",
        "ax1.set_xlabel(\"Position de la souris (Horiziontale)\")\n",
        "ax1.set_ylabel(\"Position de la souris (Verticale)\")\n",
        "ax1.set_title('Trajectoires pour les essais reward')\n",
        "\n",
        "for i in range(0, len(mouse_x_error)):\n",
        "  ax2.plot(mouse_x_error[i], mouse_y_error[i], color = 'b')\n",
        "circle1 = plt.Circle((-0.8, -0.8), 0.15, edgecolor='r', facecolor = \"None\")\n",
        "circle2 = plt.Circle((-0.8, 0.8),0.15, edgecolor='r', facecolor = \"None\")\n",
        "circle3 = plt.Circle((0.8, 0.8),0.15, edgecolor='r', facecolor = \"None\")\n",
        "circle4 = plt.Circle((0.8, -0.8),0.15, edgecolor='r', facecolor = \"None\")\n",
        "ax2.add_patch(circle1)\n",
        "ax2.add_patch(circle2)\n",
        "ax2.add_patch(circle3)\n",
        "ax2.add_patch(circle4)\n",
        "ax2.set_xlabel(\"Position de la souris (Horiziontale)\")\n",
        "ax2.set_ylabel(\"Position de la souris (Verticale)\")\n",
        "ax2.set_title('Trajectoires pour les essais error')\n",
        "\n",
        "\n",
        "circle1 = plt.Circle((-0.8, -0.8), 0.15, edgecolor='r', facecolor = \"None\")\n",
        "circle2 = plt.Circle((-0.8, 0.8),0.15, edgecolor='r', facecolor = \"None\")\n",
        "circle3 = plt.Circle((0.8, 0.8),0.15, edgecolor='r', facecolor = \"None\")\n",
        "circle4 = plt.Circle((0.8, -0.8),0.15, edgecolor='r', facecolor = \"None\")\n",
        "\n",
        "ax3.scatter(abs_click_pos_reward[0][0], abs_click_pos_reward[0][1]*(1920/1080), color = 'g', alpha =1, label = 'Reward Trials')\n",
        "ax4.scatter(abs_click_pos_reward[0][0], abs_click_pos_reward[0][1]*(1920/1080), color = 'g', alpha = 0.2, label = 'Reward Trials')\n",
        "\n",
        "for i in range(0, len(abs_click_pos_reward)):\n",
        "  ax3.scatter(abs_click_pos_reward[i][0], abs_click_pos_reward[i][1]*(1920/1080), color = 'g', alpha = 1)\n",
        "  ax4.scatter(abs_click_pos_reward[i][0], abs_click_pos_reward[i][1]*(1920/1080), color = 'g', alpha = 0.2)\n",
        "\n",
        "\n",
        "ax3.add_patch(circle1)\n",
        "ax3.add_patch(circle2)\n",
        "ax3.add_patch(circle3)\n",
        "ax3.add_patch(circle4)\n",
        "\n",
        "circle1 = plt.Circle((-0.8, -0.8), 0.15, edgecolor='r', facecolor = \"None\")\n",
        "circle2 = plt.Circle((-0.8, 0.8),0.15, edgecolor='r', facecolor = \"None\")\n",
        "circle3 = plt.Circle((0.8, 0.8),0.15, edgecolor='r', facecolor = \"None\")\n",
        "circle4 = plt.Circle((0.8, -0.8),0.15, edgecolor='r', facecolor = \"None\")\n",
        "ax4.scatter(abs_click_pos_error[0][0], abs_click_pos_error[0][1]*(1920/1080), color = 'b', alpha = 1, label = 'Error trials')\n",
        "ax3.scatter(abs_click_pos_error[0][0], abs_click_pos_error[0][1]*(1920/1080), color = 'b', alpha = 0.2, label = 'Error trials')\n",
        "for i in range(0, len(abs_click_pos_error)):\n",
        "  ax4.scatter(abs_click_pos_error[i][0], abs_click_pos_error[i][1]*(1920/1080), color = 'b', alpha = 1)\n",
        "  ax3.scatter(abs_click_pos_error[i][0], abs_click_pos_error[i][1]*(1920/1080), color = 'b', alpha = 0.2)\n",
        "ax4.add_patch(circle1)\n",
        "ax4.add_patch(circle2)\n",
        "ax4.add_patch(circle3)\n",
        "ax4.add_patch(circle4)\n",
        "ax3.legend()\n",
        "ax4.legend()\n",
        "plt.suptitle(\"Trajectoires et positions finales en fonction des conditions\")\n",
        "\n",
        "plt.tight_layout()\n",
        "plt.show()"
      ],
      "metadata": {
        "id": "PNvKQ1aqgkqr"
      },
      "execution_count": null,
      "outputs": []
    },
    {
      "cell_type": "markdown",
      "source": [
        "# Distribution des positions finales"
      ],
      "metadata": {
        "id": "EsTUc5L36tHD"
      }
    },
    {
      "cell_type": "code",
      "source": [
        "from matplotlib.patches import Ellipse\n",
        "fig, (ax1,ax2,ax3) = plt.subplots(1,3, figsize = (18,6))\n",
        "circle1 = plt.Circle((0, 0), 0.15, edgecolor='r', facecolor = \"None\")\n",
        "circle2 = plt.Circle((0, 0), 0.15, edgecolor='r', facecolor = \"None\")\n",
        "circle3 = plt.Circle((0, 0), 0.15, edgecolor='r', facecolor = \"None\")\n",
        "\n",
        "for i in range(0, len(rel_click_pos_reward)):\n",
        "  ax1.scatter(rel_click_pos_reward[i][0], rel_click_pos_reward[i][1], color = 'g')\n",
        "  ax3.scatter(rel_click_pos_reward[i][0], rel_click_pos_reward[i][1], color = 'g')\n",
        "ax1.add_patch(circle1)\n",
        "ax2.add_patch(circle2)\n",
        "ax3.add_patch(circle3)\n",
        "ax1.axvline(0, color = 'k', linestyle = '--')\n",
        "ax1.axhline(0, color = 'k', linestyle = '--')\n",
        "x_coord = []\n",
        "y_coord = []\n",
        "for i in rel_click_pos_reward:\n",
        "  x_coord.append(i[0])\n",
        "  y_coord.append(i[1])\n",
        "mean_x = np.mean(x_coord)\n",
        "mean_y = np.mean(y_coord)\n",
        "std_x = np.std(x_coord)\n",
        "std_y = np.std(y_coord)\n",
        "ax1.scatter(mean_x, mean_y, marker = '^', color = 'g', s = 200, label = 'Moyenne Essais Reward')\n",
        "ax3.scatter(mean_x, mean_y, marker = '^', color = 'g', s = 200, label = 'Moyenne Essais Reward')\n",
        "\n",
        "ellipse = Ellipse(xy=(mean_x, mean_y),width=std_x*2,height=std_y*2,angle=0,facecolor=\"none\",edgecolor=\"g\", linestyle = '--')\n",
        "ax1.add_patch(ellipse)\n",
        "ellipse = Ellipse(xy=(mean_x, mean_y),width=std_x*2,height=std_y*2,angle=0,facecolor=\"none\",edgecolor=\"g\", linestyle = '--')\n",
        "ax3.add_patch(ellipse)\n",
        "\n",
        "\n",
        "for i in range(0, len(rel_click_pos_error)):\n",
        "  ax2.scatter(rel_click_pos_error[i][0], rel_click_pos_error[i][1], color = 'b')\n",
        "  ax3.scatter(rel_click_pos_error[i][0], rel_click_pos_error[i][1], color = 'b')\n",
        "  #ax.scatter(mouse_x_error[i][-1], mouse_y_error[i][-1], color = 'b', marker = '^')\n",
        "ax2.axvline(0, color = 'k', linestyle = '--')\n",
        "ax2.axhline(0, color = 'k', linestyle = '--')\n",
        "\n",
        "x_coord = []\n",
        "y_coord = []\n",
        "for i in rel_click_pos_error:\n",
        "  x_coord.append(i[0])\n",
        "  y_coord.append(i[1])\n",
        "mean_x = np.mean(x_coord)\n",
        "mean_y = np.mean(y_coord)\n",
        "std_x = np.std(x_coord)\n",
        "std_y = np.std(y_coord)\n",
        "ax2.scatter(mean_x, mean_y, marker = 's', color = 'b', s = 150, label = 'Moyenne Essais Erreur')\n",
        "ax3.scatter(mean_x, mean_y, marker = 's', color = 'b', s = 150, label = 'Moyenne Essais Erreur')\n",
        "\n",
        "ellipse = Ellipse(xy=(mean_x, mean_y),width=std_x*2,height=std_y*2,angle=0,facecolor=\"none\",edgecolor=\"b\", linestyle = '--')\n",
        "ax2.add_patch(ellipse)\n",
        "ellipse = Ellipse(xy=(mean_x, mean_y),width=std_x*2,height=std_y*2,angle=0,facecolor=\"none\",edgecolor=\"b\", linestyle = '--')\n",
        "ax3.add_patch(ellipse)\n",
        "ax3.axvline(0, color = 'k', linestyle = '--')\n",
        "ax3.axhline(0, color = 'k', linestyle = '--')\n",
        "\n",
        "ax1.legend()\n",
        "ax1.set_xlabel(\"Position du click par rapport aux cibles (Hor.)\")\n",
        "ax1.set_ylabel(\"Position du click par rapport aux cibles (Hor.)\")\n",
        "ax2.legend()\n",
        "ax2.set_xlabel(\"Position du click par rapport aux cibles (Hor.)\")\n",
        "ax2.set_ylabel(\"Position du click par rapport aux cibles (Hor.)\")\n",
        "ax3.legend()\n",
        "ax3.set_xlabel(\"Position du click par rapport aux cibles (Hor.)\")\n",
        "ax3.set_ylabel(\"Position du click par rapport aux cibles (Hor.)\")\n",
        "\n",
        "plt.suptitle(\"Distribution des réponses autour du centre des cibles\")\n",
        "ax1.set_title(\"Distribution des essais reward\")\n",
        "ax2.set_title(\"Distribution des essais error\")\n",
        "ax3.set_title(\"Distributions superposées essais reward et error\")\n",
        "plt.tight_layout()\n",
        "plt.show()"
      ],
      "metadata": {
        "id": "KQ045bZ2E6Ny"
      },
      "execution_count": null,
      "outputs": []
    },
    {
      "cell_type": "code",
      "source": [],
      "metadata": {
        "id": "jWIiqHMBW-SR"
      },
      "execution_count": null,
      "outputs": []
    }
  ]
}